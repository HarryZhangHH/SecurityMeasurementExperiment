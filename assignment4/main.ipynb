{
 "cells": [
  {
   "cell_type": "code",
   "execution_count": 1,
   "metadata": {
    "collapsed": true
   },
   "outputs": [],
   "source": [
    "import os\n",
    "import json\n",
    "import openpyxl\n",
    "import math\n",
    "import numpy as np\n",
    "import matplotlib.pyplot as plt\n",
    "import seaborn as sns\n",
    "import pandas as pd"
   ]
  },
  {
   "cell_type": "code",
   "execution_count": 2,
   "metadata": {
    "collapsed": false
   },
   "outputs": [],
   "source": [
    "# Define the paths to the folders\n",
    "folder1_path = \"RawData/Uploaded-files-experiment/Q34\"\n",
    "folder2_path = \"RawData/Uploaded-files-experiment/Q35\"\n",
    "\n",
    "json_storage = {}\n",
    "\n",
    "# Loop over each folder\n",
    "for folder_path in [folder1_path, folder2_path]:\n",
    "    # Loop over each file in the folder\n",
    "    for file_name in os.listdir(folder_path):\n",
    "        # Check if the file is a JSON file\n",
    "        if file_name.endswith('.json'):\n",
    "            # Read the JSON file and print its contents\n",
    "            with open(os.path.join(folder_path, file_name), 'r') as json_file:\n",
    "                json_data = json.load(json_file)\n",
    "                json_storage[file_name.replace('.json', '')] = json_data\n",
    "\n",
    "ground_truth_A_json = {}\n",
    "ground_truth_B_json = {}\n",
    "\n",
    "with open(os.path.join(\"Group_A_ground_truth\", \"1_a8bcdf06417e5f0cc3eecf20484144d6f033c200.json\"), 'r') as json_file:\n",
    "    ground_truth_A_json = json.load(json_file)\n",
    "\n",
    "with open(os.path.join(\"Group_B_ground_truth\", \"1_a8bcdf06417e5f0cc3eecf20484144d6f033c200.json\"), 'r') as json_file:\n",
    "    ground_truth_B_json = json.load(json_file)"
   ]
  },
  {
   "cell_type": "markdown",
   "metadata": {
    "collapsed": false
   },
   "source": [
    "Reading the excel file and make dictionary of all data necessary for assignment"
   ]
  },
  {
   "cell_type": "code",
   "execution_count": 3,
   "metadata": {
    "collapsed": false
   },
   "outputs": [],
   "source": [
    "def match_evidence(ground_truth_evidences, student_evidences, method):\n",
    "    # Calculate the minimum number of matching strings required\n",
    "    if method == 'exact':\n",
    "        flag = match_evidence(ground_truth_evidences, student_evidences, 'all')\n",
    "        if flag == True and len(ground_truth_evidences) == len(student_evidences):\n",
    "            return True\n",
    "        else:\n",
    "            return False\n",
    "    if method == 'all':\n",
    "        min_matches = len(ground_truth_evidences)\n",
    "    if method == 'half':\n",
    "        min_matches = math.ceil(len(ground_truth_evidences) / 2) \n",
    "\n",
    "    # Count the number of matching strings\n",
    "    num_matches = 0\n",
    "    for s1 in ground_truth_evidences:\n",
    "        for s2 in student_evidences:\n",
    "            if s1 == s2:\n",
    "                num_matches += 1\n",
    "                break  # Move on to the next string in arr1\n",
    "\n",
    "    # Return True if the number of matching strings is greater than or equal to min_matches\n",
    "    return num_matches >= min_matches\n"
   ]
  },
  {
   "attachments": {},
   "cell_type": "markdown",
   "metadata": {},
   "source": [
    "Criteria 3"
   ]
  },
  {
   "cell_type": "code",
   "execution_count": 4,
   "metadata": {
    "collapsed": false
   },
   "outputs": [
    {
     "name": "stdout",
     "output_type": "stream",
     "text": [
      "group A count = 36\n",
      "group B count = 38\n",
      "{'Group A': {'only_assessment_match': {'students': [{'response_id': 'R_TwtS0aMLQlcu0Ex', 'student_name': 'Zengyi', 'assessment_matched': True, 'evidence_matched': False, 'assessment_verdict': 'Passed', 'duration': 3000}, {'response_id': 'R_C1trzBHt1BaBieZ', 'student_name': 'Jiacheng', 'assessment_matched': True, 'evidence_matched': False, 'assessment_verdict': 'Passed', 'duration': 1885}, {'response_id': 'R_3qBvOd2MWE4iQEo', 'student_name': 'Lu', 'assessment_matched': True, 'evidence_matched': False, 'assessment_verdict': 'Passed', 'duration': 4463}, {'response_id': 'R_rfJLTnN1AqlXsm5', 'student_name': 'Vishal Kanteppa', 'assessment_matched': True, 'evidence_matched': False, 'assessment_verdict': 'Passed', 'duration': 3275}, {'response_id': 'R_UtMKgPB2q3sRvnX', 'student_name': 'Rohaan', 'assessment_matched': True, 'evidence_matched': False, 'assessment_verdict': 'Passed', 'duration': 3077}, {'response_id': 'R_3qCY6InkwnxlRc0', 'student_name': 'Hao', 'assessment_matched': True, 'evidence_matched': False, 'assessment_verdict': 'Passed', 'duration': 4314}], 'accuracy': None}, 'only_evidence_match': {'students': [{'response_id': 'R_1R2UN1ygDPQx7QR', 'student_name': 'Zhuofan', 'assessment_matched': False, 'evidence_matched': True, 'assessment_verdict': 'Failed', 'duration': 3348}, {'response_id': 'R_2zISRU0tZrPdPrV', 'student_name': 'Marcel', 'assessment_matched': False, 'evidence_matched': True, 'assessment_verdict': 'Failed', 'duration': 3842}, {'response_id': 'R_z1NrwskBWlSSuZP', 'student_name': 'Anastasios', 'assessment_matched': False, 'evidence_matched': True, 'assessment_verdict': 'Failed', 'duration': 4200}, {'response_id': 'R_uaB3EYphmzxL8K5', 'student_name': 'chenqi', 'assessment_matched': False, 'evidence_matched': True, 'assessment_verdict': 'Failed', 'duration': 4629}, {'response_id': 'R_1dLCCSkRSUcX1VD', 'student_name': 'Zhiheng', 'assessment_matched': False, 'evidence_matched': True, 'assessment_verdict': 'Inconclusive', 'duration': 4726}, {'response_id': 'R_1pANzzHkHT24fDW', 'student_name': 'Lixiang', 'assessment_matched': False, 'evidence_matched': True, 'assessment_verdict': 'Failed', 'duration': 2814}, {'response_id': 'R_2f3zFwV6HanRx8Z', 'student_name': 'Clifton', 'assessment_matched': False, 'evidence_matched': True, 'assessment_verdict': 'Failed', 'duration': 4577}], 'accuracy': None}, 'both_match': {'students': [{'response_id': 'R_3exX4RRTJHPbyxX', 'student_name': 'Tim', 'assessment_matched': True, 'evidence_matched': True, 'assessment_verdict': 'Passed', 'duration': 2968}, {'response_id': 'R_1eUJ4wvYJGOF8KU', 'student_name': 'Ralph', 'assessment_matched': True, 'evidence_matched': True, 'assessment_verdict': 'Passed', 'duration': 2906}, {'response_id': 'R_2xY4xN1sEiVl1a2', 'student_name': 'Ye', 'assessment_matched': True, 'evidence_matched': True, 'assessment_verdict': 'Passed', 'duration': 3449}, {'response_id': 'R_3p9KwNn70KQqhUv', 'student_name': 'Ling', 'assessment_matched': True, 'evidence_matched': True, 'assessment_verdict': 'Passed', 'duration': 3346}, {'response_id': 'R_3kkdUsbanMcwuV2', 'student_name': 'Tianshi', 'assessment_matched': True, 'evidence_matched': True, 'assessment_verdict': 'Passed', 'duration': 3808}, {'response_id': 'R_2vdpc7uOtuq4mec', 'student_name': 'Lareb Fatima', 'assessment_matched': True, 'evidence_matched': True, 'assessment_verdict': 'Passed', 'duration': 4053}, {'response_id': 'R_2pXLMOneR43iaHw', 'student_name': 'Abhishek ', 'assessment_matched': True, 'evidence_matched': True, 'assessment_verdict': 'Passed', 'duration': 3468}, {'response_id': 'R_1rlBPY3Vmuex6Q0', 'student_name': 'Serein', 'assessment_matched': True, 'evidence_matched': True, 'assessment_verdict': 'Passed', 'duration': 4051}, {'response_id': 'R_3I4S0LskwWSjKS8', 'student_name': 'Anmol', 'assessment_matched': True, 'evidence_matched': True, 'assessment_verdict': 'Passed', 'duration': 3483}, {'response_id': 'R_1BVjA9RU3fb0bW0', 'student_name': 'Haohui', 'assessment_matched': True, 'evidence_matched': True, 'assessment_verdict': 'Passed', 'duration': 3631}, {'response_id': 'R_12l4W4Lm9EJxwXM', 'student_name': 'Nader', 'assessment_matched': True, 'evidence_matched': True, 'assessment_verdict': 'Passed', 'duration': 4216}, {'response_id': 'R_ROKHrFSUiV6Fkbf', 'student_name': 'Dingran', 'assessment_matched': True, 'evidence_matched': True, 'assessment_verdict': 'Passed', 'duration': 4316}, {'response_id': 'R_2chkzZiVZxjnb6V', 'student_name': 'Weiqiang', 'assessment_matched': True, 'evidence_matched': True, 'assessment_verdict': 'Passed', 'duration': 4740}, {'response_id': 'R_1OGLLA5Dgv7FT96', 'student_name': 'Effrosyni', 'assessment_matched': True, 'evidence_matched': True, 'assessment_verdict': 'Passed', 'duration': 4124}, {'response_id': 'R_SAJlHXGAPat8KA1', 'student_name': 'Noé', 'assessment_matched': True, 'evidence_matched': True, 'assessment_verdict': 'Passed', 'duration': 4388}, {'response_id': 'R_262NueryMs2Q7t1', 'student_name': 'Berta', 'assessment_matched': True, 'evidence_matched': True, 'assessment_verdict': 'Passed', 'duration': 4651}, {'response_id': 'R_2SwWWDA9UcDjHGN', 'student_name': 'Yuhang', 'assessment_matched': True, 'evidence_matched': True, 'assessment_verdict': 'Passed', 'duration': 4430}, {'response_id': 'R_2YficfPZpieC7Q5', 'student_name': 'Ankush', 'assessment_matched': True, 'evidence_matched': True, 'assessment_verdict': 'Passed', 'duration': 5181}, {'response_id': 'R_2s7Ps1E3bZOiQsg', 'student_name': 'Pengju', 'assessment_matched': True, 'evidence_matched': True, 'assessment_verdict': 'Passed', 'duration': 4875}, {'response_id': 'R_3p9lbTETxDjA2YL', 'student_name': 'Behnam', 'assessment_matched': True, 'evidence_matched': True, 'assessment_verdict': 'Passed', 'duration': 5362}], 'accuracy': None}, 'no_match': {'students': [{'response_id': 'R_ewxTjBLZo3wYvjH', 'student_name': 'Adithya', 'assessment_matched': False, 'evidence_matched': False, 'assessment_verdict': 'Inconclusive', 'duration': 4507}, {'response_id': 'R_3L0jB8nhmPJAJGR', 'student_name': 'Mattheus', 'assessment_matched': False, 'evidence_matched': False, 'assessment_verdict': 'Failed', 'duration': 4285}, {'response_id': 'R_24iscT6kLlfF2fA', 'student_name': 'Qingxian', 'assessment_matched': False, 'evidence_matched': False, 'assessment_verdict': 'Failed', 'duration': 4259}], 'accuracy': None}}, 'Group B': {'only_assessment_match': {'students': [{'response_id': 'R_3Gx4wU09jvl7vp8', 'student_name': 'Niels', 'assessment_matched': True, 'evidence_matched': False, 'assessment_verdict': 'Passed', 'duration': 2260}], 'accuracy': None}, 'only_evidence_match': {'students': [{'response_id': 'R_1lxGAiZBLbfTh29', 'student_name': 'Sanskar ', 'assessment_matched': False, 'evidence_matched': True, 'assessment_verdict': 'Failed', 'duration': 2085}, {'response_id': 'R_1n0F4VudPLFLhTB', 'student_name': 'Yihong', 'assessment_matched': False, 'evidence_matched': True, 'assessment_verdict': 'Failed', 'duration': 2648}, {'response_id': 'R_1n78yBDJVZwOOFm', 'student_name': 'Damla', 'assessment_matched': False, 'evidence_matched': True, 'assessment_verdict': 'Failed', 'duration': 2819}, {'response_id': 'R_2xxcKENVGDGtsLC', 'student_name': 'Shashank', 'assessment_matched': False, 'evidence_matched': True, 'assessment_verdict': 'Failed', 'duration': 2522}, {'response_id': 'R_2BnEypSfQINuJV5', 'student_name': 'Tianzheng', 'assessment_matched': False, 'evidence_matched': True, 'assessment_verdict': 'Inconclusive', 'duration': 3204}, {'response_id': 'R_SJZhdFpsXBbeRlT', 'student_name': 'Xingyou', 'assessment_matched': False, 'evidence_matched': True, 'assessment_verdict': 'Inconclusive', 'duration': 3776}, {'response_id': 'R_cOb5YOWPqwn1v6F', 'student_name': 'Amin', 'assessment_matched': False, 'evidence_matched': True, 'assessment_verdict': 'Failed', 'duration': 4263}, {'response_id': 'R_2qkHjdfAabn29v5', 'student_name': 'Shreyas', 'assessment_matched': False, 'evidence_matched': True, 'assessment_verdict': 'Failed', 'duration': 4031}, {'response_id': 'R_1q7Ye6e0D67VLJr', 'student_name': 'Yung-sheng', 'assessment_matched': False, 'evidence_matched': True, 'assessment_verdict': 'Failed', 'duration': 4217}, {'response_id': 'R_3KrOrD35CnVWMg6', 'student_name': 'Tautas', 'assessment_matched': False, 'evidence_matched': True, 'assessment_verdict': 'Inconclusive', 'duration': 4218}, {'response_id': 'R_2dhDLe0TYNDZ39W', 'student_name': 'Dymitr ', 'assessment_matched': False, 'evidence_matched': True, 'assessment_verdict': 'Failed', 'duration': 3529}, {'response_id': 'R_277NEXlktSOtqCW', 'student_name': 'Yue', 'assessment_matched': False, 'evidence_matched': True, 'assessment_verdict': 'Inconclusive', 'duration': 4382}, {'response_id': 'R_2YbquGiaizVAYp0', 'student_name': 'Priyanka', 'assessment_matched': False, 'evidence_matched': True, 'assessment_verdict': 'Failed', 'duration': 4965}, {'response_id': 'R_1prIxMg75pepOtN', 'student_name': 'Jagriti', 'assessment_matched': False, 'evidence_matched': True, 'assessment_verdict': 'Failed', 'duration': 4919}, {'response_id': 'R_2BhvGlxMaXlD9VO', 'student_name': 'Sreenidhi', 'assessment_matched': False, 'evidence_matched': True, 'assessment_verdict': 'Failed', 'duration': 1762}, {'response_id': 'R_qPXcgFRAwrG5Rvj', 'student_name': 'Arish Rahil', 'assessment_matched': False, 'evidence_matched': True, 'assessment_verdict': 'Failed', 'duration': 4177}], 'accuracy': None}, 'both_match': {'students': [{'response_id': 'R_28SxnTojLVAEeya', 'student_name': 'Tim', 'assessment_matched': True, 'evidence_matched': True, 'assessment_verdict': 'Passed', 'duration': 1297}, {'response_id': 'R_1gwscTm2kk8mq1R', 'student_name': 'Rick', 'assessment_matched': True, 'evidence_matched': True, 'assessment_verdict': 'Passed', 'duration': 2095}, {'response_id': 'R_3hDrdk0uJvCqknn', 'student_name': 'Kaiwei', 'assessment_matched': True, 'evidence_matched': True, 'assessment_verdict': 'Passed', 'duration': 2555}, {'response_id': 'R_9RDoo5bTvzK1anf', 'student_name': 'Radu', 'assessment_matched': True, 'evidence_matched': True, 'assessment_verdict': 'Passed', 'duration': 2801}, {'response_id': 'R_3lzamoDoVMIQ9Pr', 'student_name': 'Xingwen', 'assessment_matched': True, 'evidence_matched': True, 'assessment_verdict': 'Passed', 'duration': 2828}, {'response_id': 'R_eY7IlOJkVNbNKHn', 'student_name': 'Sven', 'assessment_matched': True, 'evidence_matched': True, 'assessment_verdict': 'Passed', 'duration': 2730}, {'response_id': 'R_2s4qDWR6ohmGsG2', 'student_name': 'Dewi', 'assessment_matched': True, 'evidence_matched': True, 'assessment_verdict': 'Passed', 'duration': 2696}, {'response_id': 'R_yKlLW67t6va7IpX', 'student_name': 'Nina', 'assessment_matched': True, 'evidence_matched': True, 'assessment_verdict': 'Passed', 'duration': 2680}, {'response_id': 'R_9zPbvXKs76H39jH', 'student_name': 'Abhilash', 'assessment_matched': True, 'evidence_matched': True, 'assessment_verdict': 'Passed', 'duration': 2684}, {'response_id': 'R_1EZOcz9E5Zl4VHt', 'student_name': 'Vlad-Andrei', 'assessment_matched': True, 'evidence_matched': True, 'assessment_verdict': 'Passed', 'duration': 3335}, {'response_id': 'R_3e3k25lHQHjgclt', 'student_name': 'Laura', 'assessment_matched': True, 'evidence_matched': True, 'assessment_verdict': 'Passed', 'duration': 3455}, {'response_id': 'R_1GJKqHemKS6Evjs', 'student_name': 'Zongyao', 'assessment_matched': True, 'evidence_matched': True, 'assessment_verdict': 'Passed', 'duration': 3456}, {'response_id': 'R_pKNjX0JkYHSH0sh', 'student_name': 'Haochen', 'assessment_matched': True, 'evidence_matched': True, 'assessment_verdict': 'Passed', 'duration': 3512}, {'response_id': 'R_3Hjjm4zitLq6R3U', 'student_name': 'Ander', 'assessment_matched': True, 'evidence_matched': True, 'assessment_verdict': 'Passed', 'duration': 3760}, {'response_id': 'R_3EtWs5loyb0b6hB', 'student_name': 'Carolina', 'assessment_matched': True, 'evidence_matched': True, 'assessment_verdict': 'Passed', 'duration': 3621}, {'response_id': 'R_1rdlRhbVDgMKMEc', 'student_name': 'Skip', 'assessment_matched': True, 'evidence_matched': True, 'assessment_verdict': 'Passed', 'duration': 4333}, {'response_id': 'R_3nekEZhM7DDuM7U', 'student_name': 'Yudong', 'assessment_matched': True, 'evidence_matched': True, 'assessment_verdict': 'Passed', 'duration': 4050}, {'response_id': 'R_3qmTKZ2Gqu41Kha', 'student_name': 'Vlad-Florin', 'assessment_matched': True, 'evidence_matched': True, 'assessment_verdict': 'Passed', 'duration': 3997}, {'response_id': 'R_2fXeIA4nJ12rH3P', 'student_name': 'Smruti ', 'assessment_matched': True, 'evidence_matched': True, 'assessment_verdict': 'Passed', 'duration': 3841}, {'response_id': 'R_3oAgnorYYOXhySP', 'student_name': 'Zhaolin', 'assessment_matched': True, 'evidence_matched': True, 'assessment_verdict': 'Passed', 'duration': 4647}, {'response_id': 'R_1hy5RjypbpneycD', 'student_name': 'Hasseeb', 'assessment_matched': True, 'evidence_matched': True, 'assessment_verdict': 'Passed', 'duration': 2653}], 'accuracy': None}, 'no_match': {'students': [], 'accuracy': None}}}\n"
     ]
    }
   ],
   "source": [
    "match_method = 'half'\n",
    "\n",
    "wb = openpyxl.load_workbook('RawData/E4-data-cleaned-experiment.xlsx')\n",
    "\n",
    "# Select the sheet to read data from\n",
    "sheet = wb['Sheet0']\n",
    "\n",
    "# Get the maximum number of rows in the sheet\n",
    "max_row = sheet.max_row\n",
    "\n",
    "# Define the column to read data from\n",
    "group_column = 17\n",
    "student_name_column = 15\n",
    "duration_column = 5\n",
    "\n",
    "#response_id is same as file name\n",
    "response_id_column = 8\n",
    "\n",
    "students_result = {\n",
    "    \"Group A\": {\n",
    "        \"only_assessment_match\": {\n",
    "            \"students\": [],\n",
    "            \"accuracy\": None\n",
    "        },\n",
    "        \"only_evidence_match\": {\n",
    "            \"students\": [],\n",
    "            \"accuracy\": None\n",
    "        },\n",
    "        \"both_match\": {\n",
    "            \"students\": [],\n",
    "            \"accuracy\": None\n",
    "        },\n",
    "        \"no_match\": {\n",
    "            \"students\": [],\n",
    "            \"accuracy\": None\n",
    "        }\n",
    "    },\n",
    "    \"Group B\": {\n",
    "        \"only_assessment_match\": {\n",
    "            \"students\": [],\n",
    "            \"accuracy\": None\n",
    "        },\n",
    "        \"only_evidence_match\": {\n",
    "            \"students\": [],\n",
    "            \"accuracy\": None\n",
    "        },\n",
    "        \"both_match\": {\n",
    "            \"students\": [],\n",
    "            \"accuracy\": None\n",
    "        },\n",
    "        \"no_match\": {\n",
    "            \"students\": [],\n",
    "            \"accuracy\": None\n",
    "        }\n",
    "    },\n",
    "}\n",
    "\n",
    "assessmentsForRequirements_array_index = {\n",
    "    \"Group A\": 12,\n",
    "    \"Group B\": 3\n",
    "}\n",
    "\n",
    "students_count = max_row - 2\n",
    "\n",
    "group_A_students_count = 0\n",
    "group_B_students_count = 0\n",
    "\n",
    "for i in range(3, max_row + 1):\n",
    "    row_group = sheet.cell(row=i, column=group_column).value\n",
    "    file_name = sheet.cell(row=i, column=response_id_column).value\n",
    "    student_name = sheet.cell(row=i, column=student_name_column).value\n",
    "    duration = sheet.cell(row=i, column=duration_column).value\n",
    "\n",
    "    student_json = json_storage[file_name]\n",
    "\n",
    "    ground_truth_target_file = ground_truth_A_json if row_group == \"Group A\" else ground_truth_B_json\n",
    "\n",
    "    if row_group == \"Group A\":\n",
    "        group_A_students_count += 1\n",
    "    if row_group == \"Group B\":\n",
    "        group_B_students_count += 1\n",
    "\n",
    "    final_index = assessmentsForRequirements_array_index[row_group]\n",
    "    student_verdict = student_json[\"AssessmentForRequirement\"][\"assessmentsForRequirements\"][final_index][\"assessment\"][\"verdict\"]\n",
    "    ground_truth_verdict = ground_truth_target_file[\"AssessmentForRequirement\"][\"assessmentsForRequirements\"][final_index][\"assessment\"][\"verdict\"]\n",
    "\n",
    "    student_evidence_list = student_json[\"AssessmentForRequirement\"][\"assessmentsForRequirements\"][final_index][\"evidences\"]\n",
    "    ground_truth_evidence_list = ground_truth_target_file[\"AssessmentForRequirement\"][\"assessmentsForRequirements\"][final_index][\"evidences\"]\n",
    "\n",
    "    student_evidence_list_names = list(map(lambda evidence: evidence['name'], student_evidence_list))\n",
    "    ground_truth_evidence_list_names = list(map(lambda evidence: evidence['name'], ground_truth_evidence_list))\n",
    "\n",
    "    assessment_matched = student_verdict == ground_truth_verdict\n",
    "    evidence_matched = match_evidence(ground_truth_evidence_list_names, student_evidence_list_names, match_method)\n",
    "\n",
    "    target_match = \"no_match\"\n",
    "\n",
    "    if assessment_matched == True and evidence_matched == False:\n",
    "        target_match = \"only_assessment_match\"\n",
    "    elif assessment_matched == False and evidence_matched == True:\n",
    "        target_match = \"only_evidence_match\"\n",
    "    elif assessment_matched == True and evidence_matched == True:\n",
    "        target_match = \"both_match\"\n",
    "\n",
    "    students_result[row_group][target_match][\"students\"].append({\n",
    "        \"response_id\": file_name,\n",
    "        \"student_name\": student_name,\n",
    "        \"assessment_matched\": student_verdict == ground_truth_verdict,\n",
    "        \"evidence_matched\": match_evidence(ground_truth_evidence_list_names, student_evidence_list_names, match_method),\n",
    "        \"assessment_verdict\": student_verdict,\n",
    "        \"duration\": duration\n",
    "    })\n",
    "\n",
    "print(f\"group A count = {group_A_students_count}\")\n",
    "print(f\"group B count = {group_B_students_count}\")\n",
    "print(students_result)"
   ]
  },
  {
   "cell_type": "markdown",
   "metadata": {
    "collapsed": false
   },
   "source": [
    "Calculating the accuracy and save it in students_result"
   ]
  },
  {
   "cell_type": "code",
   "execution_count": 5,
   "metadata": {
    "collapsed": false
   },
   "outputs": [
    {
     "name": "stdout",
     "output_type": "stream",
     "text": [
      "Assessing Group A\n",
      "#### only_assessment_match #####\n",
      "number of students = 6\n",
      "accuracy = $0.16666666666666666\n",
      "#### only_evidence_match #####\n",
      "number of students = 7\n",
      "accuracy = $0.19444444444444445\n",
      "#### both_match #####\n",
      "number of students = 20\n",
      "accuracy = $0.5555555555555556\n",
      "#### no_match #####\n",
      "number of students = 3\n",
      "accuracy = $0.08333333333333333\n",
      "Assessing Group B\n",
      "#### only_assessment_match #####\n",
      "number of students = 1\n",
      "accuracy = $0.02631578947368421\n",
      "#### only_evidence_match #####\n",
      "number of students = 16\n",
      "accuracy = $0.42105263157894735\n",
      "#### both_match #####\n",
      "number of students = 21\n",
      "accuracy = $0.5526315789473685\n",
      "#### no_match #####\n",
      "number of students = 0\n",
      "accuracy = $0.0\n"
     ]
    }
   ],
   "source": [
    "for group, correctnesses in students_result.items():\n",
    "    print(f\"Assessing {group}\")\n",
    "    total_group_count = group_A_students_count if group == \"Group A\" else group_B_students_count\n",
    "    for correctness_group_name, correctness_obj in correctnesses.items():\n",
    "        print(f\"#### {correctness_group_name} #####\")\n",
    "        print(f'number of students = {len(correctness_obj[\"students\"])}')\n",
    "        accuracy = len(correctness_obj[\"students\"])/total_group_count\n",
    "        print(f\"accuracy = ${accuracy}\")\n",
    "        correctness_obj[\"accuracy\"] = accuracy\n",
    "    # only_assessment_match"
   ]
  },
  {
   "cell_type": "code",
   "execution_count": 6,
   "metadata": {},
   "outputs": [],
   "source": [
    "def box_chart(array1, array2, array3, labels, xaxis_title, yaxis_title, title):\n",
    "    # Calculate the mean and median of each array\n",
    "    mean1 = np.mean(array1)\n",
    "    mean2 = np.mean(array2)\n",
    "    mean3 = np.mean(array3)\n",
    "\n",
    "    print(f\"array1 mean = {mean1}\")\n",
    "    print(f\"array2 mean = {mean2}\")\n",
    "    print(f\"array2 mean = {mean3}\")\n",
    "\n",
    "    plt.style.use('seaborn')\n",
    "    sns.set(style=\"white\")\n",
    "    plt.figure(figsize=(14, 7))\n",
    "    # Create a side-by-side box plot\n",
    "    plt.boxplot([array1, array2, array3])\n",
    "    plt.xticks([1, 2, 3], labels)\n",
    "    plt.xlabel(xaxis_title, fontsize=14)\n",
    "    plt.ylabel(yaxis_title, fontsize=14)\n",
    "    plt.title(title, fontsize=18)\n",
    "\n",
    "    # Add mean markers to the plot\n",
    "    plt.plot([1, 2, 3], [mean1, mean2, mean3], marker='o', color='red', linestyle='None')\n",
    "\n",
    "    plt.text(1, mean1 + 200, '{0:.0f}'.format(mean1), ha='center')\n",
    "    plt.text(2, mean2 - 200, '{0:.0f}'.format(mean2), ha='center')\n",
    "    plt.text(3, mean3 - 200, '{0:.0f}'.format(mean3), ha='center')\n",
    "\n",
    "    plt.legend(handles=[plt.Line2D([], [], color=\"white\", marker='o', markerfacecolor=\"red\", label='Mean'),\n",
    "                        plt.Line2D([0], [0], marker='_', color='orange', linestyle='None', label='Median')])\n",
    "\n",
    "    # plt.tight_layout()\n",
    "    plt.savefig(f'images/{title}.png')\n",
    "    # plt.show()"
   ]
  },
  {
   "cell_type": "code",
   "execution_count": 7,
   "metadata": {},
   "outputs": [
    {
     "name": "stdout",
     "output_type": "stream",
     "text": [
      "array1 mean = 3335.6666666666665\n",
      "array2 mean = 4019.4285714285716\n",
      "array2 mean = 4072.3\n"
     ]
    },
    {
     "data": {
      "image/png": "[encoded data removed]",
      "text/plain": [
       "<Figure size 1008x504 with 1 Axes>"
      ]
     },
     "metadata": {},
     "output_type": "display_data"
    }
   ],
   "source": [
    "group = \"Group A\"\n",
    "target = students_result[group]\n",
    "target[\"only_assessment_match\"][\"students\"]\n",
    "\n",
    "oam = list(map(lambda student: student['duration'], target[\"only_assessment_match\"][\"students\"]))\n",
    "oem = list(map(lambda student: student['duration'], target[\"only_evidence_match\"][\"students\"]))\n",
    "bm = list(map(lambda student: student['duration'], target[\"both_match\"][\"students\"]))\n",
    "\n",
    "box_chart(oam, oem, bm, [\"only_assessment_match\",\"only_evidence_match\",\"both_match\"], \"correctness criteria\", \"duration range\", group + \" duration values for Criteria 3\")"
   ]
  },
  {
   "cell_type": "code",
   "execution_count": 8,
   "metadata": {},
   "outputs": [],
   "source": [
    "df_a = pd.DataFrame(bm, columns = ['Duration'])"
   ]
  },
  {
   "cell_type": "code",
   "execution_count": 9,
   "metadata": {
    "collapsed": false
   },
   "outputs": [
    {
     "name": "stdout",
     "output_type": "stream",
     "text": [
      "array1 mean = 2260.0\n",
      "array2 mean = 3594.8125\n",
      "array2 mean = 3191.714285714286\n"
     ]
    },
    {
     "data": {
      "image/png": "[encoded data removed]",
      "text/plain": [
       "<Figure size 1008x504 with 1 Axes>"
      ]
     },
     "metadata": {},
     "output_type": "display_data"
    }
   ],
   "source": [
    "# group B\n",
    "group = \"Group B\"\n",
    "target = students_result[group]\n",
    "\n",
    "oam = list(map(lambda student: student['duration'], target[\"only_assessment_match\"][\"students\"]))\n",
    "oem = list(map(lambda student: student['duration'], target[\"only_evidence_match\"][\"students\"]))\n",
    "bm = list(map(lambda student: student['duration'], target[\"both_match\"][\"students\"]))\n",
    "\n",
    "box_chart(oam, oem, bm, [\"only_assessment_match\",\"only_evidence_match\",\"both_match\"], \"correctness criteria\", \"duration range\", group + \" duration values for Criteria 3\")"
   ]
  },
  {
   "cell_type": "code",
   "execution_count": 10,
   "metadata": {},
   "outputs": [],
   "source": [
    "df_b = pd.DataFrame(bm, columns = ['Duration'])"
   ]
  },
  {
   "cell_type": "code",
   "execution_count": 11,
   "metadata": {},
   "outputs": [],
   "source": [
    "def boxplot_stripplot(df, metric, y, title='', xlabel='Duration', ylabel='Group'):\n",
    "    sns.boxplot(data=df[[metric, y]], x=metric, y=y)\n",
    "\n",
    "    # Add in points to show each observation\n",
    "    sns.stripplot(data=df[[metric, y]], x=metric, y=y,\n",
    "                size=4, color=\".3\", linewidth=0)\n",
    "    plt.title(title, fontsize=20)\n",
    "    plt.xlabel(xlabel, fontsize=14)\n",
    "    plt.ylabel(ylabel, fontsize=14)\n",
    "    plt.show()"
   ]
  },
  {
   "cell_type": "code",
   "execution_count": 12,
   "metadata": {},
   "outputs": [
    {
     "data": {
      "image/png": "[encoded data removed]",
      "text/plain": [
       "<Figure size 576x396 with 1 Axes>"
      ]
     },
     "metadata": {},
     "output_type": "display_data"
    }
   ],
   "source": [
    "df_a['Group'] = 'Group A'\n",
    "df_b['Group'] = 'Group B'\n",
    "\n",
    "df_duration = pd.concat([df_a,df_b])\n",
    "boxplot_stripplot(df_duration, 'Duration', 'Group', title='Duration values based on Criteria 3')"
   ]
  },
  {
   "cell_type": "code",
   "execution_count": 13,
   "metadata": {},
   "outputs": [],
   "source": [
    "df_a['Criteria'] = 'Criteria 3'"
   ]
  },
  {
   "attachments": {},
   "cell_type": "markdown",
   "metadata": {},
   "source": [
    "Criteria 1"
   ]
  },
  {
   "cell_type": "code",
   "execution_count": 14,
   "metadata": {},
   "outputs": [],
   "source": [
    "match_method = 'exact'\n",
    "\n",
    "wb = openpyxl.load_workbook('RawData/E4-data-cleaned-experiment.xlsx')\n",
    "\n",
    "# Select the sheet to read data from\n",
    "sheet = wb['Sheet0']\n",
    "\n",
    "# Get the maximum number of rows in the sheet\n",
    "max_row = sheet.max_row\n",
    "\n",
    "# Define the column to read data from\n",
    "group_column = 17\n",
    "student_name_column = 15\n",
    "duration_column = 5\n",
    "\n",
    "#response_id is same as file name\n",
    "response_id_column = 8\n",
    "\n",
    "students_result = {\n",
    "    \"Group A\": {\n",
    "        \"only_assessment_match\": {\n",
    "            \"students\": [],\n",
    "            \"accuracy\": None\n",
    "        },\n",
    "        \"only_evidence_match\": {\n",
    "            \"students\": [],\n",
    "            \"accuracy\": None\n",
    "        },\n",
    "        \"both_match\": {\n",
    "            \"students\": [],\n",
    "            \"accuracy\": None\n",
    "        },\n",
    "        \"no_match\": {\n",
    "            \"students\": [],\n",
    "            \"accuracy\": None\n",
    "        }\n",
    "    },\n",
    "    \"Group B\": {\n",
    "        \"only_assessment_match\": {\n",
    "            \"students\": [],\n",
    "            \"accuracy\": None\n",
    "        },\n",
    "        \"only_evidence_match\": {\n",
    "            \"students\": [],\n",
    "            \"accuracy\": None\n",
    "        },\n",
    "        \"both_match\": {\n",
    "            \"students\": [],\n",
    "            \"accuracy\": None\n",
    "        },\n",
    "        \"no_match\": {\n",
    "            \"students\": [],\n",
    "            \"accuracy\": None\n",
    "        }\n",
    "    },\n",
    "}\n",
    "\n",
    "assessmentsForRequirements_array_index = {\n",
    "    \"Group A\": 12,\n",
    "    \"Group B\": 3\n",
    "}\n",
    "\n",
    "students_count = max_row - 2\n",
    "\n",
    "group_A_students_count = 0\n",
    "group_B_students_count = 0\n",
    "\n",
    "for i in range(3, max_row + 1):\n",
    "    row_group = sheet.cell(row=i, column=group_column).value\n",
    "    file_name = sheet.cell(row=i, column=response_id_column).value\n",
    "    student_name = sheet.cell(row=i, column=student_name_column).value\n",
    "    duration = sheet.cell(row=i, column=duration_column).value\n",
    "\n",
    "    student_json = json_storage[file_name]\n",
    "\n",
    "    ground_truth_target_file = ground_truth_A_json if row_group == \"Group A\" else ground_truth_B_json\n",
    "\n",
    "    if row_group == \"Group A\":\n",
    "        group_A_students_count += 1\n",
    "    if row_group == \"Group B\":\n",
    "        group_B_students_count += 1\n",
    "\n",
    "    final_index = assessmentsForRequirements_array_index[row_group]\n",
    "    student_verdict = student_json[\"AssessmentForRequirement\"][\"assessmentsForRequirements\"][final_index][\"assessment\"][\"verdict\"]\n",
    "    ground_truth_verdict = ground_truth_target_file[\"AssessmentForRequirement\"][\"assessmentsForRequirements\"][final_index][\"assessment\"][\"verdict\"]\n",
    "\n",
    "    student_evidence_list = student_json[\"AssessmentForRequirement\"][\"assessmentsForRequirements\"][final_index][\"evidences\"]\n",
    "    ground_truth_evidence_list = ground_truth_target_file[\"AssessmentForRequirement\"][\"assessmentsForRequirements\"][final_index][\"evidences\"]\n",
    "\n",
    "    student_evidence_list_names = list(map(lambda evidence: evidence['name'], student_evidence_list))\n",
    "    ground_truth_evidence_list_names = list(map(lambda evidence: evidence['name'], ground_truth_evidence_list))\n",
    "\n",
    "    assessment_matched = student_verdict == ground_truth_verdict\n",
    "    evidence_matched = match_evidence(ground_truth_evidence_list_names, student_evidence_list_names, match_method)\n",
    "\n",
    "    target_match = \"no_match\"\n",
    "\n",
    "    if assessment_matched == True and evidence_matched == False:\n",
    "        target_match = \"only_assessment_match\"\n",
    "    elif assessment_matched == False and evidence_matched == True:\n",
    "        target_match = \"only_evidence_match\"\n",
    "    elif assessment_matched == True and evidence_matched == True:\n",
    "        target_match = \"both_match\"\n",
    "\n",
    "    students_result[row_group][target_match][\"students\"].append({\n",
    "        \"response_id\": file_name,\n",
    "        \"student_name\": student_name,\n",
    "        \"assessment_matched\": student_verdict == ground_truth_verdict,\n",
    "        \"evidence_matched\": match_evidence(ground_truth_evidence_list_names, student_evidence_list_names, match_method),\n",
    "        \"assessment_verdict\": student_verdict,\n",
    "        \"duration\": duration\n",
    "    })\n",
    "\n",
    "group = \"Group A\"\n",
    "target = students_result[group]\n",
    "\n",
    "bm_a = list(map(lambda student: student['duration'], target[\"both_match\"][\"students\"]))\n",
    "df_a_1 = pd.DataFrame(bm_a, columns = ['Duration'])\n",
    "df_a_1['Criteria'] = 'Criteria 1'\n",
    "\n",
    "\n",
    "group = \"Group B\"\n",
    "target = students_result[group]\n",
    "\n",
    "bm_b = list(map(lambda student: student['duration'], target[\"both_match\"][\"students\"]))\n",
    "df_b_1 = pd.DataFrame(bm_b, columns = ['Duration'])\n",
    "df_b_1['Criteria'] = 'Criteria 1'"
   ]
  },
  {
   "attachments": {},
   "cell_type": "markdown",
   "metadata": {},
   "source": [
    "Criteria 2"
   ]
  },
  {
   "cell_type": "code",
   "execution_count": 15,
   "metadata": {},
   "outputs": [],
   "source": [
    "match_method = 'all'\n",
    "\n",
    "wb = openpyxl.load_workbook('RawData/E4-data-cleaned-experiment.xlsx')\n",
    "\n",
    "# Select the sheet to read data from\n",
    "sheet = wb['Sheet0']\n",
    "\n",
    "# Get the maximum number of rows in the sheet\n",
    "max_row = sheet.max_row\n",
    "\n",
    "# Define the column to read data from\n",
    "group_column = 17\n",
    "student_name_column = 15\n",
    "duration_column = 5\n",
    "\n",
    "#response_id is same as file name\n",
    "response_id_column = 8\n",
    "\n",
    "students_result = {\n",
    "    \"Group A\": {\n",
    "        \"only_assessment_match\": {\n",
    "            \"students\": [],\n",
    "            \"accuracy\": None\n",
    "        },\n",
    "        \"only_evidence_match\": {\n",
    "            \"students\": [],\n",
    "            \"accuracy\": None\n",
    "        },\n",
    "        \"both_match\": {\n",
    "            \"students\": [],\n",
    "            \"accuracy\": None\n",
    "        },\n",
    "        \"no_match\": {\n",
    "            \"students\": [],\n",
    "            \"accuracy\": None\n",
    "        }\n",
    "    },\n",
    "    \"Group B\": {\n",
    "        \"only_assessment_match\": {\n",
    "            \"students\": [],\n",
    "            \"accuracy\": None\n",
    "        },\n",
    "        \"only_evidence_match\": {\n",
    "            \"students\": [],\n",
    "            \"accuracy\": None\n",
    "        },\n",
    "        \"both_match\": {\n",
    "            \"students\": [],\n",
    "            \"accuracy\": None\n",
    "        },\n",
    "        \"no_match\": {\n",
    "            \"students\": [],\n",
    "            \"accuracy\": None\n",
    "        }\n",
    "    },\n",
    "}\n",
    "\n",
    "assessmentsForRequirements_array_index = {\n",
    "    \"Group A\": 12,\n",
    "    \"Group B\": 3\n",
    "}\n",
    "\n",
    "students_count = max_row - 2\n",
    "\n",
    "group_A_students_count = 0\n",
    "group_B_students_count = 0\n",
    "\n",
    "for i in range(3, max_row + 1):\n",
    "    row_group = sheet.cell(row=i, column=group_column).value\n",
    "    file_name = sheet.cell(row=i, column=response_id_column).value\n",
    "    student_name = sheet.cell(row=i, column=student_name_column).value\n",
    "    duration = sheet.cell(row=i, column=duration_column).value\n",
    "\n",
    "    student_json = json_storage[file_name]\n",
    "\n",
    "    ground_truth_target_file = ground_truth_A_json if row_group == \"Group A\" else ground_truth_B_json\n",
    "\n",
    "    if row_group == \"Group A\":\n",
    "        group_A_students_count += 1\n",
    "    if row_group == \"Group B\":\n",
    "        group_B_students_count += 1\n",
    "\n",
    "    final_index = assessmentsForRequirements_array_index[row_group]\n",
    "    student_verdict = student_json[\"AssessmentForRequirement\"][\"assessmentsForRequirements\"][final_index][\"assessment\"][\"verdict\"]\n",
    "    ground_truth_verdict = ground_truth_target_file[\"AssessmentForRequirement\"][\"assessmentsForRequirements\"][final_index][\"assessment\"][\"verdict\"]\n",
    "\n",
    "    student_evidence_list = student_json[\"AssessmentForRequirement\"][\"assessmentsForRequirements\"][final_index][\"evidences\"]\n",
    "    ground_truth_evidence_list = ground_truth_target_file[\"AssessmentForRequirement\"][\"assessmentsForRequirements\"][final_index][\"evidences\"]\n",
    "\n",
    "    student_evidence_list_names = list(map(lambda evidence: evidence['name'], student_evidence_list))\n",
    "    ground_truth_evidence_list_names = list(map(lambda evidence: evidence['name'], ground_truth_evidence_list))\n",
    "\n",
    "    assessment_matched = student_verdict == ground_truth_verdict\n",
    "    evidence_matched = match_evidence(ground_truth_evidence_list_names, student_evidence_list_names, match_method)\n",
    "\n",
    "    target_match = \"no_match\"\n",
    "\n",
    "    if assessment_matched == True and evidence_matched == False:\n",
    "        target_match = \"only_assessment_match\"\n",
    "    elif assessment_matched == False and evidence_matched == True:\n",
    "        target_match = \"only_evidence_match\"\n",
    "    elif assessment_matched == True and evidence_matched == True:\n",
    "        target_match = \"both_match\"\n",
    "\n",
    "    students_result[row_group][target_match][\"students\"].append({\n",
    "        \"response_id\": file_name,\n",
    "        \"student_name\": student_name,\n",
    "        \"assessment_matched\": student_verdict == ground_truth_verdict,\n",
    "        \"evidence_matched\": match_evidence(ground_truth_evidence_list_names, student_evidence_list_names, match_method),\n",
    "        \"assessment_verdict\": student_verdict,\n",
    "        \"duration\": duration\n",
    "    })\n",
    "\n",
    "group = \"Group A\"\n",
    "target = students_result[group]\n",
    "\n",
    "bm_a = list(map(lambda student: student['duration'], target[\"both_match\"][\"students\"]))\n",
    "df_a_2 = pd.DataFrame(bm_a, columns = ['Duration'])\n",
    "df_a_2['Criteria'] = 'Criteria 2'\n",
    "\n",
    "\n",
    "group = \"Group B\"\n",
    "target = students_result[group]\n",
    "\n",
    "bm_b = list(map(lambda student: student['duration'], target[\"both_match\"][\"students\"]))\n",
    "df_b_2 = pd.DataFrame(bm_b, columns = ['Duration'])\n",
    "df_b_2['Criteria'] = 'Criteria 2'\n"
   ]
  },
  {
   "cell_type": "code",
   "execution_count": 16,
   "metadata": {},
   "outputs": [
    {
     "data": {
      "image/png": "[encoded data removed]",
      "text/plain": [
       "<Figure size 576x396 with 1 Axes>"
      ]
     },
     "metadata": {},
     "output_type": "display_data"
    }
   ],
   "source": [
    "df_criteria = pd.concat([df_a_1, df_a_2, df_a])\n",
    "boxplot_stripplot(df_criteria, 'Duration', 'Criteria', title='Duration values of Group A', ylabel='Criteria')"
   ]
  },
  {
   "attachments": {},
   "cell_type": "markdown",
   "metadata": {},
   "source": [
    "Only for Criteria 3"
   ]
  },
  {
   "cell_type": "code",
   "execution_count": 17,
   "metadata": {},
   "outputs": [
    {
     "data": {
      "image/png": "[encoded data removed]",
      "text/plain": [
       "<Figure size 576x396 with 1 Axes>"
      ]
     },
     "metadata": {},
     "output_type": "display_data"
    }
   ],
   "source": [
    "plt.hist(df_a['Duration'], label='Gropu A', density=True, alpha=0.75)\n",
    "plt.hist(df_b['Duration'], label='Gropu B', density=True, alpha=0.5)\n",
    "plt.legend()\n",
    "plt.suptitle(\"Distribution of Duration of subjects in two groups\", fontsize=20)\n",
    "plt.xlabel(\"Value\", fontsize=16)\n",
    "# plt.ylabel(\"Count\", fontsize=16)\n",
    "\n",
    "# plt.text(0.75, 2.525,\n",
    "#          f\"$\\mu= {df_measurement['F1'][df_measurement['Group'] == 'Group A'].mean(): .1f}, \\ \\sigma= {df_measurement['F1'][df_measurement['Group'] == 'Group A'].std(): .1f}$\")\n",
    "plt.text(3500, 0.00065,\n",
    "         f\"$\\mu= {df_a['Duration'].mean(): .1f}, \\ \\sigma= {df_a['Duration'].std(): .1f}$\")\n",
    "plt.text(2000, 0.00095,\n",
    "         f\"$\\mu= {df_b['Duration'].mean(): .1f}, \\ \\sigma= {df_b['Duration'].std(): .1f}$\")\n",
    "# plt.tight_layout()\n",
    "plt.savefig('images/hist.png')\n",
    "plt.show()"
   ]
  },
  {
   "cell_type": "markdown",
   "metadata": {
    "collapsed": false
   },
   "source": [
    "Performing Shapiro-Wilk test to see if data is normally distributed"
   ]
  },
  {
   "cell_type": "code",
   "execution_count": 18,
   "metadata": {
    "collapsed": false
   },
   "outputs": [],
   "source": [
    "from scipy import stats\n",
    "import numpy as np\n",
    "\n",
    "# The null hypothesis of the Shapiro-Wilk test is that the dataset is normally distributed.\n",
    "\n",
    "def shapiro_wilk_test(data):\n",
    "    \"\"\"\n",
    "    Performs the Shapiro-Wilk test for normality on a given dataset.\n",
    "\n",
    "    Parameters:\n",
    "        data (numpy.ndarray): Input data to test for normality.\n",
    "\n",
    "    Returns:\n",
    "        tuple: Tuple containing the test statistic, p-value, and a string indicating whether\n",
    "               the null hypothesis is rejected or not.\n",
    "    \"\"\"\n",
    "    stat, p = stats.shapiro(data)\n",
    "\n",
    "    if p > 0.05:\n",
    "        result = 'Data is normally distributed (fail to reject H0)'\n",
    "    else:\n",
    "        result = 'Data is NOT normally distributed (reject H0)'\n",
    "\n",
    "    return stat, p, result\n"
   ]
  },
  {
   "cell_type": "code",
   "execution_count": 19,
   "metadata": {
    "collapsed": false
   },
   "outputs": [
    {
     "name": "stdout",
     "output_type": "stream",
     "text": [
      "Shapiro-Wilk test statistic: 0.9766508340835571\n",
      "p-value: 0.8839609026908875\n",
      "Data is normally distributed (fail to reject H0)\n"
     ]
    }
   ],
   "source": [
    "stat, p, result = shapiro_wilk_test(df_a['Duration'])\n",
    "\n",
    "print('Shapiro-Wilk test statistic:', stat)\n",
    "print('p-value:', p)\n",
    "print(result)"
   ]
  },
  {
   "cell_type": "code",
   "execution_count": 20,
   "metadata": {
    "collapsed": false
   },
   "outputs": [
    {
     "name": "stdout",
     "output_type": "stream",
     "text": [
      "Shapiro-Wilk test statistic: 0.9643269181251526\n",
      "p-value: 0.6071416735649109\n",
      "Data is normally distributed (fail to reject H0)\n"
     ]
    }
   ],
   "source": [
    "stat, p, result = shapiro_wilk_test(df_b['Duration'])\n",
    "\n",
    "print('Shapiro-Wilk test statistic:', stat)\n",
    "print('p-value:', p)\n",
    "print(result)"
   ]
  },
  {
   "cell_type": "markdown",
   "metadata": {
    "collapsed": false
   },
   "source": [
    "Now That we see data are normally distributed, we can apply ttest"
   ]
  },
  {
   "cell_type": "code",
   "execution_count": 21,
   "metadata": {
    "collapsed": false
   },
   "outputs": [],
   "source": [
    "def ttest(data_a, data_b):\n",
    "    group_a = list(data_a)\n",
    "    group_b = list(data_b)\n",
    "\n",
    "    # Calculate t-value and p-value\n",
    "    t, p = stats.ttest_ind(group_a, group_b)\n",
    "\n",
    "    return '{0:.6f}'.format(t), '{0:.6f}'.format(p)"
   ]
  },
  {
   "cell_type": "code",
   "execution_count": 22,
   "metadata": {
    "collapsed": false
   },
   "outputs": [
    {
     "name": "stdout",
     "output_type": "stream",
     "text": [
      "t-value = 3.765400\n",
      "p-value = 0.000548\n"
     ]
    }
   ],
   "source": [
    "t_value, p_value = ttest(df_a['Duration'], df_b['Duration'])\n",
    "print(f\"t-value = {t_value}\")\n",
    "print(f\"p-value = {p_value}\")"
   ]
  },
  {
   "cell_type": "code",
   "execution_count": 23,
   "metadata": {},
   "outputs": [
    {
     "name": "stdout",
     "output_type": "stream",
     "text": [
      "t-value = 3.812502\n",
      "p-value = 0.000664\n"
     ]
    }
   ],
   "source": [
    "t_value, p_value = ttest(df_a_1['Duration'], df_b_1['Duration'])\n",
    "print(f\"t-value = {t_value}\")\n",
    "print(f\"p-value = {p_value}\")"
   ]
  },
  {
   "cell_type": "code",
   "execution_count": 24,
   "metadata": {},
   "outputs": [
    {
     "name": "stdout",
     "output_type": "stream",
     "text": [
      "t-value = 3.599479\n",
      "p-value = 0.001096\n"
     ]
    }
   ],
   "source": [
    "t_value, p_value = ttest(df_a_2['Duration'], df_b_2['Duration'])\n",
    "print(f\"t-value = {t_value}\")\n",
    "print(f\"p-value = {p_value}\")"
   ]
  }
 ],
 "metadata": {
  "kernelspec": {
   "display_name": "Python 3",
   "language": "python",
   "name": "python3"
  },
  "language_info": {
   "codemirror_mode": {
    "name": "ipython",
    "version": 3
   },
   "file_extension": ".py",
   "mimetype": "text/x-python",
   "name": "python",
   "nbconvert_exporter": "python",
   "pygments_lexer": "ipython3",
   "version": "3.9.11"
  }
 },
 "nbformat": 4,
 "nbformat_minor": 0
}
